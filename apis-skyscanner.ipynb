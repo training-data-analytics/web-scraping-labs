{
 "cells": [
  {
   "cell_type": "code",
   "execution_count": null,
   "metadata": {},
   "outputs": [],
   "source": [
    "import requests"
   ]
  },
  {
   "cell_type": "code",
   "execution_count": null,
   "metadata": {},
   "outputs": [],
   "source": [
    "url = \"https://skyscanner-skyscanner-flight-search-v1.p.rapidapi.com/apiservices/autosuggest/v1.0/UK/GBP/en-GB/\"\n",
    "\n",
    "params = {\"query\":\"Berlin\"}\n",
    "\n",
    "headers = {'x-rapidapi-host': \"skyscanner-skyscanner-flight-search-v1.p.rapidapi.com\",\n",
    "                      'x-rapidapi-key': \"7a7b77879fmsh7f229a55585446cp11e799jsna7f7eb740123\"}\n",
    "\n",
    "response = requests.get(url, headers = headers, params = params)\n",
    "response.json()"
   ]
  },
  {
   "cell_type": "code",
   "execution_count": null,
   "metadata": {},
   "outputs": [],
   "source": [
    "# flights from where to where on what date \n",
    "\n",
    "url = \"https://skyscanner-skyscanner-flight-search-v1.p.rapidapi.com/apiservices/browsequotes/v1.0/UK/GBP/en-GB/SFO-sky/NYCA-sky/2020-12-12\"\n",
    "\n",
    "params = {\"inboundpartialdate\":\"2020-12-12\"}\n",
    "\n",
    "headers = {\n",
    "    'x-rapidapi-host': \"skyscanner-skyscanner-flight-search-v1.p.rapidapi.com\",\n",
    "    'x-rapidapi-key': \"7a7b77879fmsh7f229a55585446cp11e799jsna7f7eb740123\"}\n",
    "\n",
    "response = requests.get(url, headers=headers, params=params)\n",
    "\n",
    "response.json()"
   ]
  },
  {
   "cell_type": "code",
   "execution_count": null,
   "metadata": {},
   "outputs": [],
   "source": [
    "import pandas as pd \n",
    "import json "
   ]
  },
  {
   "cell_type": "code",
   "execution_count": null,
   "metadata": {},
   "outputs": [],
   "source": [
    "pd.json_normalize(response.json())"
   ]
  },
  {
   "cell_type": "code",
   "execution_count": null,
   "metadata": {},
   "outputs": [],
   "source": [
    "quotes = pd.DataFrame(pd.json_normalize(response.json())[\"Quotes\"][0])\n",
    "quotes"
   ]
  },
  {
   "cell_type": "code",
   "execution_count": null,
   "metadata": {},
   "outputs": [],
   "source": [
    "flights = pd.DataFrame(pd.DataFrame(pd.json_normalize(response.json())[\"Quotes\"][0])[\"OutboundLeg\"][0])\n",
    "flights"
   ]
  },
  {
   "cell_type": "code",
   "execution_count": null,
   "metadata": {},
   "outputs": [],
   "source": [
    "carriers=pd.DataFrame(pd.json_normalize(response.json())[\"Carriers\"][0])\n",
    "carriers"
   ]
  },
  {
   "cell_type": "code",
   "execution_count": null,
   "metadata": {},
   "outputs": [],
   "source": [
    "places= pd.DataFrame(pd.json_normalize(response.json())[\"Places\"][0])\n",
    "places"
   ]
  },
  {
   "cell_type": "code",
   "execution_count": null,
   "metadata": {},
   "outputs": [],
   "source": [
    "#once we have our pandas we can use the data \n",
    "\n",
    "#function 1 - returns the date of the cheapest flight\n",
    "\n",
    "def lowest_price(origin, destination, start, end):\n",
    "    flights = flight_days(origin, destination, start, end)\n",
    "    prices = {date:min([quote[\"MinPrice\"] for quote in flights[date][\"Quotes\"]]) for date in flights for quote in flights[date][\"Quotes\"]}\n",
    "    return min(prices, key = prices.get)\n",
    "\n",
    "\n",
    "#NOTE The problem with this code is that \n",
    "# it just gets the first date as the only one \n",
    "# even if there are other days with the same price. \n",
    "# Try to fix that in the sky scanner lab (optional)"
   ]
  },
  {
   "cell_type": "code",
   "execution_count": null,
   "metadata": {},
   "outputs": [],
   "source": [
    "# function 2 - function for which if we introduce two dates, \n",
    "# an origin and a destination we will get the data from the \n",
    "# cheapest flight between these two dates.\n",
    "\n",
    "#We will start by creating a function that takes two dates\n",
    "# and return a list of dates between the given ones. \n",
    "# Luckily, there is a pandas method for that.\n",
    "\n",
    "def get_dates(start, end):\n",
    "    return pd.Series(pd.date_range(start, end,freq='d').format())"
   ]
  },
  {
   "cell_type": "code",
   "execution_count": null,
   "metadata": {},
   "outputs": [],
   "source": [
    "#function 2 continued\n",
    "# takes the origin, destination and dates as arguments. \n",
    "#It will create a dictionary that has every day between the two dates\n",
    "# and contains a call to the API with all the information about the days\n",
    "\n",
    "\n",
    "def flight_days(origin, destination, start, end):\n",
    "    dates = get_dates(start, end)\n",
    "    return {date:flight_prices(origin, destination, date) for date in dates}"
   ]
  }
 ],
 "metadata": {
  "kernelspec": {
   "display_name": "Python 3",
   "language": "python",
   "name": "python3"
  },
  "language_info": {
   "codemirror_mode": {
    "name": "ipython",
    "version": 3
   },
   "file_extension": ".py",
   "mimetype": "text/x-python",
   "name": "python",
   "nbconvert_exporter": "python",
   "pygments_lexer": "ipython3",
   "version": "3.8.3"
  }
 },
 "nbformat": 4,
 "nbformat_minor": 4
}
